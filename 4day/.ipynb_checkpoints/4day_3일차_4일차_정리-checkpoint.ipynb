{
 "cells": [
  {
   "cell_type": "markdown",
   "id": "74dc80ef",
   "metadata": {},
   "source": [
    "# 정리\n",
    "\n",
    "## 라이브러리\n",
    "pandas = 데이터 처리를 위한 라이브러리 = 데이터를 불러오는 기능이 있음\n",
    "numpy = 행의 위치를 찾기위해서 필요한 함수를 포함하는 라이브러리\n",
    "matplotlib / matplotlib.pylab = 그림(그래프)를 그리는데 필요한 라이브러리\n",
    "\n",
    "## 데이터 가져오기\n",
    "라이브러리에 저장되어 있는 내장형 데이터의 경우 = load.dataset()\n",
    "파일에 저장되어 있는 데이터의 경우\n",
    "1. 파일 경로 지정\n",
    "2. 파일 읽어 들이기 = pd.read_csv()\n",
    "\n",
    "+ 파일을 읽어 들일때 오류가 발생하면 파일을 저장할 때 encoding을 utf-8로 변환하여 저장하거나 쿼리에 encoding = 'euc-kr'을 추가하면 오류를 해결할 수 있음\n",
    "\n",
    "## 데이터 분석\n",
    "### 빈도분석\n",
    "[] = 대괄호 1개 = 시리즈의 형태로 데이터 출력\n",
    "[[]] = 대괄호 2개 = 데이터프레임의 형태로 데이터 출력\n",
    "value.counts() = 데이터의 빈도수 측정\n",
    "pd.crosstab(,) = 데이터의 교차분석\n",
    "margins = True == 데이터의 총괄(총합)을 출력\n",
    "lambda = 빈도 비율 출력\n",
    "dtypes = 컬럼을 기준으로 데이터 값의 타입을 확인할 수 있음\n",
    "describe() = 박스플롯의 그림 데이터를 표로 확인할 수 있음\n",
    "info() = 전체 데이터를 확인할 수 있음 / R에서 summary()와 유사\n",
    "\n",
    "## 결측치 처리\n",
    "### 결측치 확인\n",
    "notnull() = null이 아닌 값을 True로 출력\n",
    "isnull() = null인 값을 True로 출력\n",
    "sum(0) = 행별로 개수 조회\n",
    "sum(1) = 열별로 개수 조회\n",
    "\n",
    "+ 0 행 / 1 열\n",
    "\n",
    "### 결측치 삭제\n",
    "\n",
    "\n"
   ]
  }
 ],
 "metadata": {
  "kernelspec": {
   "display_name": "Python 3 (ipykernel)",
   "language": "python",
   "name": "python3"
  },
  "language_info": {
   "codemirror_mode": {
    "name": "ipython",
    "version": 3
   },
   "file_extension": ".py",
   "mimetype": "text/x-python",
   "name": "python",
   "nbconvert_exporter": "python",
   "pygments_lexer": "ipython3",
   "version": "3.9.7"
  }
 },
 "nbformat": 4,
 "nbformat_minor": 5
}
