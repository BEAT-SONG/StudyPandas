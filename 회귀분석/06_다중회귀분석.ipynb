{
 "cells": [
  {
   "cell_type": "code",
   "execution_count": 1,
   "id": "8bc9c77e",
   "metadata": {},
   "outputs": [],
   "source": [
    "import pandas as pd\n",
    "import numpy as np\n",
    "import matplotlib.pyplot as plt\n",
    "import seaborn as sns"
   ]
  },
  {
   "cell_type": "code",
   "execution_count": 2,
   "id": "6519094c",
   "metadata": {},
   "outputs": [],
   "source": [
    "df = pd.read_csv('./files_new/auto-mpg_v2.csv')"
   ]
  },
  {
   "cell_type": "code",
   "execution_count": 3,
   "id": "de174870",
   "metadata": {},
   "outputs": [],
   "source": [
    "ndf = df[['mpg', 'cylinders', 'horsepower', 'weight']]"
   ]
  },
  {
   "cell_type": "code",
   "execution_count": 4,
   "id": "6ac5fd5c",
   "metadata": {},
   "outputs": [
    {
     "data": {
      "text/html": [
       "<div>\n",
       "<style scoped>\n",
       "    .dataframe tbody tr th:only-of-type {\n",
       "        vertical-align: middle;\n",
       "    }\n",
       "\n",
       "    .dataframe tbody tr th {\n",
       "        vertical-align: top;\n",
       "    }\n",
       "\n",
       "    .dataframe thead th {\n",
       "        text-align: right;\n",
       "    }\n",
       "</style>\n",
       "<table border=\"1\" class=\"dataframe\">\n",
       "  <thead>\n",
       "    <tr style=\"text-align: right;\">\n",
       "      <th></th>\n",
       "      <th>mpg</th>\n",
       "      <th>cylinders</th>\n",
       "      <th>horsepower</th>\n",
       "      <th>weight</th>\n",
       "    </tr>\n",
       "  </thead>\n",
       "  <tbody>\n",
       "    <tr>\n",
       "      <th>0</th>\n",
       "      <td>18.0</td>\n",
       "      <td>8</td>\n",
       "      <td>130.0</td>\n",
       "      <td>3504.0</td>\n",
       "    </tr>\n",
       "    <tr>\n",
       "      <th>1</th>\n",
       "      <td>15.0</td>\n",
       "      <td>8</td>\n",
       "      <td>165.0</td>\n",
       "      <td>3693.0</td>\n",
       "    </tr>\n",
       "    <tr>\n",
       "      <th>2</th>\n",
       "      <td>18.0</td>\n",
       "      <td>8</td>\n",
       "      <td>150.0</td>\n",
       "      <td>3436.0</td>\n",
       "    </tr>\n",
       "    <tr>\n",
       "      <th>3</th>\n",
       "      <td>16.0</td>\n",
       "      <td>8</td>\n",
       "      <td>150.0</td>\n",
       "      <td>3433.0</td>\n",
       "    </tr>\n",
       "    <tr>\n",
       "      <th>4</th>\n",
       "      <td>17.0</td>\n",
       "      <td>8</td>\n",
       "      <td>140.0</td>\n",
       "      <td>3449.0</td>\n",
       "    </tr>\n",
       "    <tr>\n",
       "      <th>...</th>\n",
       "      <td>...</td>\n",
       "      <td>...</td>\n",
       "      <td>...</td>\n",
       "      <td>...</td>\n",
       "    </tr>\n",
       "    <tr>\n",
       "      <th>387</th>\n",
       "      <td>27.0</td>\n",
       "      <td>4</td>\n",
       "      <td>86.0</td>\n",
       "      <td>2790.0</td>\n",
       "    </tr>\n",
       "    <tr>\n",
       "      <th>388</th>\n",
       "      <td>44.0</td>\n",
       "      <td>4</td>\n",
       "      <td>52.0</td>\n",
       "      <td>2130.0</td>\n",
       "    </tr>\n",
       "    <tr>\n",
       "      <th>389</th>\n",
       "      <td>32.0</td>\n",
       "      <td>4</td>\n",
       "      <td>84.0</td>\n",
       "      <td>2295.0</td>\n",
       "    </tr>\n",
       "    <tr>\n",
       "      <th>390</th>\n",
       "      <td>28.0</td>\n",
       "      <td>4</td>\n",
       "      <td>79.0</td>\n",
       "      <td>2625.0</td>\n",
       "    </tr>\n",
       "    <tr>\n",
       "      <th>391</th>\n",
       "      <td>31.0</td>\n",
       "      <td>4</td>\n",
       "      <td>82.0</td>\n",
       "      <td>2720.0</td>\n",
       "    </tr>\n",
       "  </tbody>\n",
       "</table>\n",
       "<p>392 rows × 4 columns</p>\n",
       "</div>"
      ],
      "text/plain": [
       "      mpg  cylinders  horsepower  weight\n",
       "0    18.0          8       130.0  3504.0\n",
       "1    15.0          8       165.0  3693.0\n",
       "2    18.0          8       150.0  3436.0\n",
       "3    16.0          8       150.0  3433.0\n",
       "4    17.0          8       140.0  3449.0\n",
       "..    ...        ...         ...     ...\n",
       "387  27.0          4        86.0  2790.0\n",
       "388  44.0          4        52.0  2130.0\n",
       "389  32.0          4        84.0  2295.0\n",
       "390  28.0          4        79.0  2625.0\n",
       "391  31.0          4        82.0  2720.0\n",
       "\n",
       "[392 rows x 4 columns]"
      ]
     },
     "execution_count": 4,
     "metadata": {},
     "output_type": "execute_result"
    }
   ],
   "source": [
    "ndf"
   ]
  },
  {
   "cell_type": "code",
   "execution_count": 5,
   "id": "39657c50",
   "metadata": {},
   "outputs": [],
   "source": [
    "# 예측모델\n",
    "x = ndf[['cylinders', 'horsepower', 'weight']] # 데이터프레임 형태 / 독립변수\n",
    "y = ndf['mpg'] # 시리즈 형태 / 종속변수"
   ]
  },
  {
   "cell_type": "code",
   "execution_count": 6,
   "id": "7dac8b49",
   "metadata": {},
   "outputs": [
    {
     "data": {
      "text/html": [
       "<div>\n",
       "<style scoped>\n",
       "    .dataframe tbody tr th:only-of-type {\n",
       "        vertical-align: middle;\n",
       "    }\n",
       "\n",
       "    .dataframe tbody tr th {\n",
       "        vertical-align: top;\n",
       "    }\n",
       "\n",
       "    .dataframe thead th {\n",
       "        text-align: right;\n",
       "    }\n",
       "</style>\n",
       "<table border=\"1\" class=\"dataframe\">\n",
       "  <thead>\n",
       "    <tr style=\"text-align: right;\">\n",
       "      <th></th>\n",
       "      <th>cylinders</th>\n",
       "      <th>horsepower</th>\n",
       "      <th>weight</th>\n",
       "    </tr>\n",
       "  </thead>\n",
       "  <tbody>\n",
       "    <tr>\n",
       "      <th>0</th>\n",
       "      <td>8</td>\n",
       "      <td>130.0</td>\n",
       "      <td>3504.0</td>\n",
       "    </tr>\n",
       "    <tr>\n",
       "      <th>1</th>\n",
       "      <td>8</td>\n",
       "      <td>165.0</td>\n",
       "      <td>3693.0</td>\n",
       "    </tr>\n",
       "    <tr>\n",
       "      <th>2</th>\n",
       "      <td>8</td>\n",
       "      <td>150.0</td>\n",
       "      <td>3436.0</td>\n",
       "    </tr>\n",
       "    <tr>\n",
       "      <th>3</th>\n",
       "      <td>8</td>\n",
       "      <td>150.0</td>\n",
       "      <td>3433.0</td>\n",
       "    </tr>\n",
       "    <tr>\n",
       "      <th>4</th>\n",
       "      <td>8</td>\n",
       "      <td>140.0</td>\n",
       "      <td>3449.0</td>\n",
       "    </tr>\n",
       "    <tr>\n",
       "      <th>...</th>\n",
       "      <td>...</td>\n",
       "      <td>...</td>\n",
       "      <td>...</td>\n",
       "    </tr>\n",
       "    <tr>\n",
       "      <th>387</th>\n",
       "      <td>4</td>\n",
       "      <td>86.0</td>\n",
       "      <td>2790.0</td>\n",
       "    </tr>\n",
       "    <tr>\n",
       "      <th>388</th>\n",
       "      <td>4</td>\n",
       "      <td>52.0</td>\n",
       "      <td>2130.0</td>\n",
       "    </tr>\n",
       "    <tr>\n",
       "      <th>389</th>\n",
       "      <td>4</td>\n",
       "      <td>84.0</td>\n",
       "      <td>2295.0</td>\n",
       "    </tr>\n",
       "    <tr>\n",
       "      <th>390</th>\n",
       "      <td>4</td>\n",
       "      <td>79.0</td>\n",
       "      <td>2625.0</td>\n",
       "    </tr>\n",
       "    <tr>\n",
       "      <th>391</th>\n",
       "      <td>4</td>\n",
       "      <td>82.0</td>\n",
       "      <td>2720.0</td>\n",
       "    </tr>\n",
       "  </tbody>\n",
       "</table>\n",
       "<p>392 rows × 3 columns</p>\n",
       "</div>"
      ],
      "text/plain": [
       "     cylinders  horsepower  weight\n",
       "0            8       130.0  3504.0\n",
       "1            8       165.0  3693.0\n",
       "2            8       150.0  3436.0\n",
       "3            8       150.0  3433.0\n",
       "4            8       140.0  3449.0\n",
       "..         ...         ...     ...\n",
       "387          4        86.0  2790.0\n",
       "388          4        52.0  2130.0\n",
       "389          4        84.0  2295.0\n",
       "390          4        79.0  2625.0\n",
       "391          4        82.0  2720.0\n",
       "\n",
       "[392 rows x 3 columns]"
      ]
     },
     "execution_count": 6,
     "metadata": {},
     "output_type": "execute_result"
    }
   ],
   "source": [
    "x"
   ]
  },
  {
   "cell_type": "code",
   "execution_count": 7,
   "id": "09d9ca10",
   "metadata": {},
   "outputs": [
    {
     "data": {
      "text/plain": [
       "0      18.0\n",
       "1      15.0\n",
       "2      18.0\n",
       "3      16.0\n",
       "4      17.0\n",
       "       ... \n",
       "387    27.0\n",
       "388    44.0\n",
       "389    32.0\n",
       "390    28.0\n",
       "391    31.0\n",
       "Name: mpg, Length: 392, dtype: float64"
      ]
     },
     "execution_count": 7,
     "metadata": {},
     "output_type": "execute_result"
    }
   ],
   "source": [
    "y"
   ]
  },
  {
   "cell_type": "code",
   "execution_count": 8,
   "id": "5ec45ad6",
   "metadata": {},
   "outputs": [],
   "source": [
    "# train : 학습\n",
    "# 예측 학습\n",
    "# 원본 데이터에서 학습데이터/검증데이터 2개로 분산하여 예측함. 일반적으로 7:3으로 나눠서 사용.\n",
    "from sklearn.model_selection import train_test_split"
   ]
  },
  {
   "cell_type": "code",
   "execution_count": 9,
   "id": "aca3b0e6",
   "metadata": {},
   "outputs": [],
   "source": [
    "# x : 독립변수\n",
    "# y : 종속변수\n",
    "# test_size : 검증데이터 비율(나머지는 훈련데이터 비율)\n",
    "# random_state : 랜덤하게 뽑아내기 위한 시드값\n",
    "# train : 훈련(학습)데이터\n",
    "# test : 검증(test)데이터\n",
    "x_train, x_test, y_train, y_test = train_test_split(x,\n",
    "                                                    y,\n",
    "                                                    test_size =0.3,\n",
    "                                                    random_state = 10)"
   ]
  },
  {
   "cell_type": "code",
   "execution_count": 10,
   "id": "93e8c723",
   "metadata": {},
   "outputs": [
    {
     "data": {
      "text/html": [
       "<div>\n",
       "<style scoped>\n",
       "    .dataframe tbody tr th:only-of-type {\n",
       "        vertical-align: middle;\n",
       "    }\n",
       "\n",
       "    .dataframe tbody tr th {\n",
       "        vertical-align: top;\n",
       "    }\n",
       "\n",
       "    .dataframe thead th {\n",
       "        text-align: right;\n",
       "    }\n",
       "</style>\n",
       "<table border=\"1\" class=\"dataframe\">\n",
       "  <thead>\n",
       "    <tr style=\"text-align: right;\">\n",
       "      <th></th>\n",
       "      <th>cylinders</th>\n",
       "      <th>horsepower</th>\n",
       "      <th>weight</th>\n",
       "    </tr>\n",
       "  </thead>\n",
       "  <tbody>\n",
       "    <tr>\n",
       "      <th>37</th>\n",
       "      <td>8</td>\n",
       "      <td>165.0</td>\n",
       "      <td>4209.0</td>\n",
       "    </tr>\n",
       "    <tr>\n",
       "      <th>170</th>\n",
       "      <td>4</td>\n",
       "      <td>71.0</td>\n",
       "      <td>2223.0</td>\n",
       "    </tr>\n",
       "    <tr>\n",
       "      <th>275</th>\n",
       "      <td>6</td>\n",
       "      <td>133.0</td>\n",
       "      <td>3410.0</td>\n",
       "    </tr>\n",
       "    <tr>\n",
       "      <th>194</th>\n",
       "      <td>4</td>\n",
       "      <td>60.0</td>\n",
       "      <td>2164.0</td>\n",
       "    </tr>\n",
       "    <tr>\n",
       "      <th>352</th>\n",
       "      <td>4</td>\n",
       "      <td>100.0</td>\n",
       "      <td>2615.0</td>\n",
       "    </tr>\n",
       "    <tr>\n",
       "      <th>...</th>\n",
       "      <td>...</td>\n",
       "      <td>...</td>\n",
       "      <td>...</td>\n",
       "    </tr>\n",
       "    <tr>\n",
       "      <th>369</th>\n",
       "      <td>4</td>\n",
       "      <td>74.0</td>\n",
       "      <td>1980.0</td>\n",
       "    </tr>\n",
       "    <tr>\n",
       "      <th>320</th>\n",
       "      <td>4</td>\n",
       "      <td>65.0</td>\n",
       "      <td>2110.0</td>\n",
       "    </tr>\n",
       "    <tr>\n",
       "      <th>15</th>\n",
       "      <td>6</td>\n",
       "      <td>95.0</td>\n",
       "      <td>2833.0</td>\n",
       "    </tr>\n",
       "    <tr>\n",
       "      <th>125</th>\n",
       "      <td>6</td>\n",
       "      <td>100.0</td>\n",
       "      <td>2901.0</td>\n",
       "    </tr>\n",
       "    <tr>\n",
       "      <th>265</th>\n",
       "      <td>4</td>\n",
       "      <td>95.0</td>\n",
       "      <td>2560.0</td>\n",
       "    </tr>\n",
       "  </tbody>\n",
       "</table>\n",
       "<p>274 rows × 3 columns</p>\n",
       "</div>"
      ],
      "text/plain": [
       "     cylinders  horsepower  weight\n",
       "37           8       165.0  4209.0\n",
       "170          4        71.0  2223.0\n",
       "275          6       133.0  3410.0\n",
       "194          4        60.0  2164.0\n",
       "352          4       100.0  2615.0\n",
       "..         ...         ...     ...\n",
       "369          4        74.0  1980.0\n",
       "320          4        65.0  2110.0\n",
       "15           6        95.0  2833.0\n",
       "125          6       100.0  2901.0\n",
       "265          4        95.0  2560.0\n",
       "\n",
       "[274 rows x 3 columns]"
      ]
     },
     "execution_count": 10,
     "metadata": {},
     "output_type": "execute_result"
    }
   ],
   "source": [
    "x_train"
   ]
  },
  {
   "cell_type": "code",
   "execution_count": 11,
   "id": "8d48fb2f",
   "metadata": {},
   "outputs": [
    {
     "data": {
      "text/html": [
       "<div>\n",
       "<style scoped>\n",
       "    .dataframe tbody tr th:only-of-type {\n",
       "        vertical-align: middle;\n",
       "    }\n",
       "\n",
       "    .dataframe tbody tr th {\n",
       "        vertical-align: top;\n",
       "    }\n",
       "\n",
       "    .dataframe thead th {\n",
       "        text-align: right;\n",
       "    }\n",
       "</style>\n",
       "<table border=\"1\" class=\"dataframe\">\n",
       "  <thead>\n",
       "    <tr style=\"text-align: right;\">\n",
       "      <th></th>\n",
       "      <th>cylinders</th>\n",
       "      <th>horsepower</th>\n",
       "      <th>weight</th>\n",
       "    </tr>\n",
       "  </thead>\n",
       "  <tbody>\n",
       "    <tr>\n",
       "      <th>241</th>\n",
       "      <td>3</td>\n",
       "      <td>110.0</td>\n",
       "      <td>2720.0</td>\n",
       "    </tr>\n",
       "    <tr>\n",
       "      <th>366</th>\n",
       "      <td>4</td>\n",
       "      <td>84.0</td>\n",
       "      <td>2525.0</td>\n",
       "    </tr>\n",
       "    <tr>\n",
       "      <th>298</th>\n",
       "      <td>8</td>\n",
       "      <td>90.0</td>\n",
       "      <td>3420.0</td>\n",
       "    </tr>\n",
       "    <tr>\n",
       "      <th>341</th>\n",
       "      <td>4</td>\n",
       "      <td>60.0</td>\n",
       "      <td>1760.0</td>\n",
       "    </tr>\n",
       "    <tr>\n",
       "      <th>263</th>\n",
       "      <td>8</td>\n",
       "      <td>140.0</td>\n",
       "      <td>4080.0</td>\n",
       "    </tr>\n",
       "    <tr>\n",
       "      <th>...</th>\n",
       "      <td>...</td>\n",
       "      <td>...</td>\n",
       "      <td>...</td>\n",
       "    </tr>\n",
       "    <tr>\n",
       "      <th>378</th>\n",
       "      <td>4</td>\n",
       "      <td>67.0</td>\n",
       "      <td>1965.0</td>\n",
       "    </tr>\n",
       "    <tr>\n",
       "      <th>20</th>\n",
       "      <td>4</td>\n",
       "      <td>87.0</td>\n",
       "      <td>2672.0</td>\n",
       "    </tr>\n",
       "    <tr>\n",
       "      <th>187</th>\n",
       "      <td>8</td>\n",
       "      <td>120.0</td>\n",
       "      <td>3962.0</td>\n",
       "    </tr>\n",
       "    <tr>\n",
       "      <th>59</th>\n",
       "      <td>4</td>\n",
       "      <td>90.0</td>\n",
       "      <td>2408.0</td>\n",
       "    </tr>\n",
       "    <tr>\n",
       "      <th>225</th>\n",
       "      <td>6</td>\n",
       "      <td>100.0</td>\n",
       "      <td>3630.0</td>\n",
       "    </tr>\n",
       "  </tbody>\n",
       "</table>\n",
       "<p>118 rows × 3 columns</p>\n",
       "</div>"
      ],
      "text/plain": [
       "     cylinders  horsepower  weight\n",
       "241          3       110.0  2720.0\n",
       "366          4        84.0  2525.0\n",
       "298          8        90.0  3420.0\n",
       "341          4        60.0  1760.0\n",
       "263          8       140.0  4080.0\n",
       "..         ...         ...     ...\n",
       "378          4        67.0  1965.0\n",
       "20           4        87.0  2672.0\n",
       "187          8       120.0  3962.0\n",
       "59           4        90.0  2408.0\n",
       "225          6       100.0  3630.0\n",
       "\n",
       "[118 rows x 3 columns]"
      ]
     },
     "execution_count": 11,
     "metadata": {},
     "output_type": "execute_result"
    }
   ],
   "source": [
    "x_test"
   ]
  },
  {
   "cell_type": "code",
   "execution_count": 12,
   "id": "fc95d176",
   "metadata": {},
   "outputs": [],
   "source": [
    "# 선형회귀분석 모듈\n",
    "from sklearn.linear_model import LinearRegression"
   ]
  },
  {
   "cell_type": "code",
   "execution_count": 13,
   "id": "4bd864fb",
   "metadata": {},
   "outputs": [],
   "source": [
    "lr = LinearRegression()"
   ]
  },
  {
   "cell_type": "code",
   "execution_count": 20,
   "id": "f9270a63",
   "metadata": {},
   "outputs": [
    {
     "data": {
      "text/plain": [
       "LinearRegression()"
      ]
     },
     "execution_count": 20,
     "metadata": {},
     "output_type": "execute_result"
    }
   ],
   "source": [
    "# 학습 모델 만들기\n",
    "lr.fit(x_train, y_train)"
   ]
  },
  {
   "cell_type": "code",
   "execution_count": 22,
   "id": "245d200e",
   "metadata": {},
   "outputs": [
    {
     "data": {
      "text/plain": [
       "0.6939048496695597"
      ]
     },
     "execution_count": 22,
     "metadata": {},
     "output_type": "execute_result"
    }
   ],
   "source": [
    "# 결정계수(R^2) 조회\n",
    "lr.score(x_test, y_test)"
   ]
  },
  {
   "cell_type": "code",
   "execution_count": 15,
   "id": "0d595220",
   "metadata": {},
   "outputs": [
    {
     "data": {
      "text/plain": [
       "0.7071493981431289"
      ]
     },
     "execution_count": 15,
     "metadata": {},
     "output_type": "execute_result"
    }
   ],
   "source": [
    "# # 결정계수(R^2) 조회\n",
    "# lr.score(x_train, y_train)"
   ]
  },
  {
   "cell_type": "code",
   "execution_count": 26,
   "id": "b5df50fe",
   "metadata": {},
   "outputs": [],
   "source": [
    "# y의 예측값\n",
    "y_hat = lr.predict(x)"
   ]
  },
  {
   "cell_type": "code",
   "execution_count": 27,
   "id": "d4920ca4",
   "metadata": {
    "scrolled": true
   },
   "outputs": [
    {
     "name": "stdout",
     "output_type": "stream",
     "text": [
      "392\n",
      "[18.43046954 16.14345244 18.04279395 18.05846198 18.34630798 11.53350791\n",
      " 10.64851363 11.05357053 10.09199907 14.39496987 16.63669615 16.76786181\n",
      " 16.3454236  17.08516489 28.07012352 24.4486432  24.68249943 26.10483083\n",
      " 29.59399778 32.69460494 26.8004472  27.95291262 28.05445548 28.12231715\n",
      " 25.60054305  9.4710991  11.27643241 10.87368749  9.67714524 29.59399778\n",
      " 28.81987716 28.82218914 25.30225169 20.9122915  21.6724905  22.25919342\n",
      " 21.88662029 13.4485506  11.74535887 14.1814885  14.59582648  8.99531955\n",
      " 10.4582681   8.21482855 23.21780447 28.73634746 21.91795636 23.11048993\n",
      " 29.19823853 29.55627476 30.55500367 30.37916246 32.31273417 32.99979911\n",
      " 32.17985523 31.17650235 28.56105525 29.91201557 30.20917579 28.06781153\n",
      " 29.16690246 13.10907653 12.15795043 14.39214204 14.31205545 16.81024194\n",
      "  9.63707709 12.2897148  12.34425356 11.40759807 28.8221071  15.66125279\n",
      " 15.32819882 13.93314509 14.69505736 24.50880613 28.04984809 25.19708506\n",
      " 29.99153659 28.28426988 28.62025112 27.2960029  29.71355381 29.75067812\n",
      " 13.64641365 16.81024194 15.34558013 15.36068259 16.26186076  8.34245166\n",
      " 12.67388098 12.90424438 13.85942889  8.84437774  7.34487045 15.10354081\n",
      " 22.57310309 21.93884707 23.67799884 23.72676593 24.07783306 32.09399697\n",
      "  9.89019362  9.73406228 10.93875447 11.37686071 24.49273661 28.81581876\n",
      " 28.7729062  28.07070565 30.15796496 28.7653384  25.88833933 28.81465448\n",
      " 14.8546484  10.67402831 32.41605659 29.9305943  27.12192468 24.8482802\n",
      " 18.23603303 26.00887899 23.58162894 15.73779683 23.04374282 23.90779667\n",
      " 21.63593175 31.3140384  28.21464523 31.98370545 27.92508595 19.31184005\n",
      " 19.71861022 20.00354553 14.73221482 11.44655166 12.71043973 12.13654386\n",
      " 13.75497533 29.31488386 31.24614358 29.07755137 33.44317774 31.26008177\n",
      " 30.10294267 30.1917282  29.47099864 27.38478842 28.0451744  31.0529045\n",
      " 22.19766899 20.80783794 22.17449944 23.6055132  10.86563698 12.98492968\n",
      " 12.49630993 11.7401859  18.28237378 18.52030498 19.20678778 19.47665376\n",
      " 22.81565826 20.6513051  20.21720755 29.86269948 27.12135911 23.83990186\n",
      " 27.5525294  26.3094989  29.73968377 27.09231846 23.58573705 31.27051055\n",
      " 22.66017535 26.38842121 25.27484309 24.96610638 25.7657251  32.64352587\n",
      " 27.9239051  29.38394295 27.13701057 29.27543099 29.40366939 14.34573665\n",
      " 14.10489475 16.40989187 13.90004603 22.17386758 21.3614418  24.03375623\n",
      " 23.31823277 31.42722404 30.4563715  31.27051055 32.64352587 19.99078819\n",
      " 21.21003386 19.65071541 22.56847913 31.8183096  30.99370862 29.94626233\n",
      " 27.91638701 23.74689385 15.41056425 23.64014488 23.45921193 18.36533791\n",
      " 11.99835939 14.9956607  16.5189694  16.37675967 30.7807431  29.76055791\n",
      " 32.30114111 28.40901544 31.22872913 15.90962935 16.26947828 14.55173307\n",
      " 14.29933126 20.30355016 20.98540899 20.10046442 20.72312738 12.83398787\n",
      " 13.49264401 11.91419783 13.38474733 30.95771544 26.40816421 29.37176775\n",
      " 26.29268316 30.93511146 30.06694949 31.13124467 29.65204595 24.46836963\n",
      " 26.32223966 26.30243119 31.83692148 32.13458098 31.68835794 30.57589438\n",
      " 32.35742629 19.89923947 16.85262208 17.75150483 20.41091441 22.76694089\n",
      " 24.13065855 26.51261777 21.14500002 22.66539802 21.2204295  23.58227736\n",
      " 19.78128236 20.50663589 18.28594783 18.65250234 19.65778229 15.05079818\n",
      " 30.20624852 27.08826005 28.37187456 29.55456148 27.32328056 25.75065578\n",
      " 25.9189789  27.82349337 24.77409704 21.73105452 25.11811303 20.02380438\n",
      " 30.95656774 30.31070208 21.55408218 24.0000916  25.62476251 22.37815073\n",
      " 21.13917863 16.67564974 17.31339859 15.77791469 16.54217209 13.03133507\n",
      " 15.11230603 18.08868349 15.41056425 31.29604181 31.25775322 31.01400062\n",
      " 27.07087875 22.08388546 16.54799348 24.68935416 20.35480988 29.89694625\n",
      " 30.15808015 31.02273271 30.29967459 26.6994699  24.94882286 24.40044167\n",
      " 27.29485519 29.9665709  31.48001638 30.31476048 31.02795538 26.65768848\n",
      " 25.72921607 24.96031813 21.77232009 29.6624913  26.4853401  27.92508595\n",
      " 27.85774013 29.37176775 30.55269169 25.46340849 30.55269169 31.31465368\n",
      " 30.00898418 25.48444753 24.52455702 31.83630619 30.29561619 32.04812401\n",
      " 22.67228426 28.24064343 27.66160693 29.35262346 27.86239725 27.10510894\n",
      " 26.88632203 24.45557915 28.41077843 32.66672856 31.8171619  32.5663334\n",
      " 30.71343043 31.25775322 30.97747502 31.09410378 30.07859227 30.89216576\n",
      " 29.14256863 29.80060949 29.65901504 28.92784013 26.61530834 27.47651779\n",
      " 24.14617908 23.44650431 23.31876519 23.01352132 20.85193134 18.20477983\n",
      " 23.52308149 21.51931956 27.11322574 26.93043201 28.20998811 27.38132873\n",
      " 27.67960352 26.35999583 25.60676593 30.89737186 30.88519666 31.17244395\n",
      " 30.54863329 30.28864709 29.43731744 29.68512843 29.66192574 31.23569823\n",
      " 31.23569823 31.07901789 23.30658999 23.86952465 27.06911576 23.8068028\n",
      " 26.50273798 28.4891186  25.23712007 26.22131208 30.93106963 28.88081945\n",
      " 27.34304014 26.73546308]\n"
     ]
    }
   ],
   "source": [
    "print(len(y_hat))\n",
    "print(y_hat)"
   ]
  },
  {
   "cell_type": "code",
   "execution_count": 28,
   "id": "6059a598",
   "metadata": {},
   "outputs": [
    {
     "data": {
      "image/png": "[encoded data removed]",
      "text/plain": [
       "<Figure size 720x360 with 1 Axes>"
      ]
     },
     "metadata": {
      "needs_background": "light"
     },
     "output_type": "display_data"
    }
   ],
   "source": [
    "# 예측값과 실제값의 차이를 그래프로 확인\n",
    "\n",
    "# 글씨체 변경.\n",
    "# 한글깨짐 방지\n",
    "plt.rc('font', family = 'Malgun Gothic')\n",
    "\n",
    "plt.figure(figsize = (10, 5))\n",
    "\n",
    "ax1 = sns.kdeplot(y, label = 'y(실제값)')\n",
    "\n",
    "ax2 = sns.kdeplot(y_hat, label = 'y_hat(예측값)', ax = ax1)\n",
    "\n",
    "plt.legend() # 범례 추가\n",
    "\n",
    "plt.show()"
   ]
  },
  {
   "cell_type": "markdown",
   "id": "816f8c4d",
   "metadata": {},
   "source": [
    "# 정리\n",
    "1. 독립변수와 종속변수와의 상관관계\n",
    " - 단순, 다항, 다중 회귀분석 3가지 모두 사용해서 가장 적절한 모델(= 결정계수가 가장 높은)을 정해야 함.\n",
    "2. train 데이터를 이용해서 학습(예측)시키기\n",
    " - x_train값과 y_train 값을 모두 넣어줍니다.\n",
    "3. 결정계수값 확인 : 1에 가까울 수록 예측율이 높음\n",
    " - lr.score(x_test, y_test)\n",
    " - 결정계수는 test값으로 도출해야함\n",
    "4. 예측(y_hat) 값 구하기 : predict()\n",
    " - y_hat = lr.predict(x)\n",
    " - 전체 x에 대한 y_hat을 구해야함\n",
    "5. 그래프 그리기\n",
    " - y(실제값), y_hat(예측값)을 한 그래프로 분석."
   ]
  },
  {
   "cell_type": "markdown",
   "id": "fbbd29d1",
   "metadata": {},
   "source": [
    "- 비정형데이터 = 군집분석\n",
    "- 정형데이터 = 회귀분석(단순, 다항, 다중)"
   ]
  },
  {
   "cell_type": "markdown",
   "id": "6364e696",
   "metadata": {},
   "source": [
    "- 스텝아이즈 = 결정계수를 정하는 것. 포워드/스텝아이즈/백워드\n",
    "- 분석방법은 모든 데이터 분석에서 적어둬야된다. 개념을 정리해뒀다가 익히기\n",
    "- 탐색적 데이터, 시계열 데이터 등등\n",
    "- qgis = 지도시각화. 공간 데이터 분석\n",
    "- 다양한 변수를 가지고 확장하는 것이 중요\n",
    "- 앱서비스\n",
    "- 경진대회에서 우수사아1!!!"
   ]
  }
 ],
 "metadata": {
  "kernelspec": {
   "display_name": "Python 3 (ipykernel)",
   "language": "python",
   "name": "python3"
  },
  "language_info": {
   "codemirror_mode": {
    "name": "ipython",
    "version": 3
   },
   "file_extension": ".py",
   "mimetype": "text/x-python",
   "name": "python",
   "nbconvert_exporter": "python",
   "pygments_lexer": "ipython3",
   "version": "3.9.7"
  }
 },
 "nbformat": 4,
 "nbformat_minor": 5
}
