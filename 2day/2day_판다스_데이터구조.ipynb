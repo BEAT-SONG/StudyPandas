{
 "cells": [
  {
   "cell_type": "markdown",
   "id": "ce6a9803",
   "metadata": {},
   "source": [
    "# 판다스 데이터 구조"
   ]
  },
  {
   "cell_type": "markdown",
   "id": "0ba9fc3a",
   "metadata": {},
   "source": [
    "## 시리즈\n",
    "시리즈 구조 확인\n",
    "\n",
    "시리즈를 모으면 데이터프레임이 된다\n",
    "\n",
    "M으로 제목 만들고 Y로 실행창으로 만들기\n",
    "\n",
    "1차원 레이블(테이블)이 지정된 배열\n",
    "+ 배열 == list(리스트)\n",
    "\n",
    "변수명(속성, 퓨쳐, 컬럼명) 하나에 대한 데이터들\n",
    "열 레이블을 총칭"
   ]
  },
  {
   "cell_type": "code",
   "execution_count": 2,
   "id": "bd2ec987",
   "metadata": {},
   "outputs": [],
   "source": [
    "#라이브러리 읽어들이기\n",
    "import pandas as pd"
   ]
  },
  {
   "cell_type": "code",
   "execution_count": 7,
   "id": "421a2f9d",
   "metadata": {},
   "outputs": [
    {
     "data": {
      "text/plain": [
       "00       Doc\n",
       "11       Cat\n",
       "22     Tiger\n",
       "33      Lion\n",
       "44    Monkey\n",
       "dtype: object"
      ]
     },
     "execution_count": 7,
     "metadata": {},
     "output_type": "execute_result"
    }
   ],
   "source": [
    "# 이러한 형태를 '시리즈' \n",
    "# 인덱스 번호와 데이터 값으로 구성됨\n",
    "# 인덱스 번호 지정\n",
    "# 인덱스 번호를 지정을 하지 않으면 기본적으로 0부터 시작해서 올라감\n",
    "sd1 = pd.Series(['Doc', 'Cat', 'Tiger', 'Lion', 'Monkey'],\n",
    "               index = ['00', '11', '22', '33', '44'])\n",
    "\n",
    "sd1"
   ]
  },
  {
   "cell_type": "markdown",
   "id": "a2a10246",
   "metadata": {},
   "source": [
    "### 딕셔너리 -> 시리즈\n",
    "리스트[]\n",
    "\n",
    "딕셔너리{}\n",
    "\n",
    "튜플()"
   ]
  },
  {
   "cell_type": "code",
   "execution_count": 11,
   "id": "da089ea6",
   "metadata": {},
   "outputs": [
    {
     "data": {
      "text/plain": [
       "{'a': 1, 'b': 2, 'c': 3}"
      ]
     },
     "execution_count": 11,
     "metadata": {},
     "output_type": "execute_result"
    }
   ],
   "source": [
    "# 딕셔너리 데이터 만들기\n",
    "dic_data = {'a' : 1, 'b' : 2, 'c' : 3}\n",
    "\n",
    "dic_data"
   ]
  },
  {
   "cell_type": "code",
   "execution_count": 15,
   "id": "81f65aa7",
   "metadata": {},
   "outputs": [
    {
     "data": {
      "text/plain": [
       "a    1\n",
       "b    2\n",
       "c    3\n",
       "dtype: int64"
      ]
     },
     "execution_count": 15,
     "metadata": {},
     "output_type": "execute_result"
    }
   ],
   "source": [
    "# 딕셔너리 -> 시리즈\n",
    "# 시리즈로 변환하는 경우 딕셔러니의 key는 인덱스, value는 데이터 값으로\n",
    "# dtype = 열에 따른 데이터 타입이 무엇인지 확인 \n",
    "sd2 = pd.Series(dic_data)\n",
    "\n",
    "sd2"
   ]
  },
  {
   "cell_type": "code",
   "execution_count": 17,
   "id": "b4f1d8c1",
   "metadata": {},
   "outputs": [
    {
     "data": {
      "text/plain": [
       "pandas.core.series.Series"
      ]
     },
     "execution_count": 17,
     "metadata": {},
     "output_type": "execute_result"
    }
   ],
   "source": [
    "# 시리즈로 변환이 되었는지 확인하기 위해서 type() 사용\n",
    "# type()는 데이터 전체 열의 타입(형태)이 무엇인지 확인\n",
    "type(sd2)"
   ]
  },
  {
   "cell_type": "markdown",
   "id": "c083edf4",
   "metadata": {},
   "source": [
    "### 리스트 -> 시리즈"
   ]
  },
  {
   "cell_type": "code",
   "execution_count": 18,
   "id": "47de07b3",
   "metadata": {},
   "outputs": [
    {
     "data": {
      "text/plain": [
       "['Dog', 'Cat', 'Tiger']"
      ]
     },
     "execution_count": 18,
     "metadata": {},
     "output_type": "execute_result"
    }
   ],
   "source": [
    "# 리스트 데이터 만들기\n",
    "list_data = ['Dog', 'Cat', 'Tiger']\n",
    "\n",
    "list_data"
   ]
  },
  {
   "cell_type": "code",
   "execution_count": 19,
   "id": "f35fa931",
   "metadata": {},
   "outputs": [
    {
     "data": {
      "text/plain": [
       "0      Dog\n",
       "1      Cat\n",
       "2    Tiger\n",
       "dtype: object"
      ]
     },
     "execution_count": 19,
     "metadata": {},
     "output_type": "execute_result"
    }
   ],
   "source": [
    "# 리스트 -> 시리즈\n",
    "sd3 = pd.Series(list_data)\n",
    "\n",
    "sd3"
   ]
  },
  {
   "cell_type": "code",
   "execution_count": 22,
   "id": "2d23e97b",
   "metadata": {},
   "outputs": [
    {
     "data": {
      "text/plain": [
       "pandas.core.series.Series"
      ]
     },
     "execution_count": 22,
     "metadata": {},
     "output_type": "execute_result"
    }
   ],
   "source": [
    "# 타입 확인\n",
    "type(sd3)"
   ]
  },
  {
   "cell_type": "markdown",
   "id": "7bb78748",
   "metadata": {},
   "source": [
    "### 튜플 -> 시리즈"
   ]
  },
  {
   "cell_type": "code",
   "execution_count": 23,
   "id": "2b6a0e2e",
   "metadata": {},
   "outputs": [
    {
     "data": {
      "text/plain": [
       "('이순신', '1991-03-15', '남자')"
      ]
     },
     "execution_count": 23,
     "metadata": {},
     "output_type": "execute_result"
    }
   ],
   "source": [
    "# '이순신', '1991-03-15', '남자'\n",
    "# 위의 데이터를 튜플로 만들기\n",
    "tuple_data = ('이순신', '1991-03-15', '남자')\n",
    "\n",
    "tuple_data"
   ]
  },
  {
   "cell_type": "code",
   "execution_count": 31,
   "id": "766497ae",
   "metadata": {},
   "outputs": [
    {
     "data": {
      "text/plain": [
       "이름             이순신\n",
       "생년월일    1991-03-15\n",
       "성별              남자\n",
       "dtype: object"
      ]
     },
     "execution_count": 31,
     "metadata": {},
     "output_type": "execute_result"
    }
   ],
   "source": [
    "# 튜플 -> 시리즈\n",
    "# 변수 활용해서 index값 변환하기\n",
    "col_name = ['이름', '생년월일', '성별'] \n",
    "\n",
    "sd4 = pd.Series(tuple_data,\n",
    "               index = col_name)\n",
    "\n",
    "sd4"
   ]
  },
  {
   "cell_type": "code",
   "execution_count": 32,
   "id": "4d1f5b04",
   "metadata": {},
   "outputs": [
    {
     "data": {
      "text/plain": [
       "pandas.core.series.Series"
      ]
     },
     "execution_count": 32,
     "metadata": {},
     "output_type": "execute_result"
    }
   ],
   "source": [
    "# 타입 확인\n",
    "type(sd4)"
   ]
  },
  {
   "cell_type": "markdown",
   "id": "03a6b851",
   "metadata": {},
   "source": [
    "## 데이터프레임\n",
    "행과 열 자료구조.\n",
    "\n",
    "서로 다른 종류의 값(숫자, 문자열, 블리언 등)을 가질 수 있습니다.\n",
    "+ 블리언 = TRUE or FALSE\n",
    "\n",
    "시리즈가 복수 개 합쳐진 것.\n",
    "\n",
    "가장 많이 보게 되는 자료구조.\n",
    "\n",
    "데이터프레임부터는 생성보다 이미 자체적으로 만들어지는 함수가 존재..\n",
    "\n",
    "------------------------------------------\n",
    "변수 = 열 = 컬럼 = 피처 = 특징\n",
    "\n",
    "관측치 = 행 = 로우 = 데이터\n",
    "\n",
    "값 = 특정 변수 하나를 의미함\n",
    "\n",
    "------------------------------------------\n",
    "행과 열의 크기\n",
    "\n",
    "행의 증가 = 막대한 컴퓨팅 파워의 증가 / 열의 감소 = 분석시 다양한 조합이 불가능\n",
    "\n"
   ]
  },
  {
   "cell_type": "markdown",
   "id": "df0c9c7a",
   "metadata": {},
   "source": [
    "### 딕셔너리 -> 데이터프레임"
   ]
  },
  {
   "cell_type": "code",
   "execution_count": 47,
   "id": "4b20176a",
   "metadata": {},
   "outputs": [
    {
     "data": {
      "text/plain": [
       "{'동물': ['Dog', 'Cat', 'Tiger', 'Lion', 'Monkey'], '나이': [7, 9, 2, 3, 1]}"
      ]
     },
     "execution_count": 47,
     "metadata": {},
     "output_type": "execute_result"
    }
   ],
   "source": [
    "# 동물 : 'Dog', 'Cat', 'Tiger', 'Lion', 'Monkey'\n",
    "# 나이 : 7, 9, 2, 3, 1\n",
    "# 위레 동물과 나이 데이터를 하나의 딕셔러니로 만들기\n",
    "dic_data = {'동물': ['Dog', 'Cat', 'Tiger', 'Lion', 'Monkey'],\n",
    "          '나이' : [7, 9, 2, 3, 1]}\n",
    "\n",
    "dic_data"
   ]
  },
  {
   "cell_type": "code",
   "execution_count": 55,
   "id": "49adae19",
   "metadata": {},
   "outputs": [
    {
     "data": {
      "text/html": [
       "<div>\n",
       "<style scoped>\n",
       "    .dataframe tbody tr th:only-of-type {\n",
       "        vertical-align: middle;\n",
       "    }\n",
       "\n",
       "    .dataframe tbody tr th {\n",
       "        vertical-align: top;\n",
       "    }\n",
       "\n",
       "    .dataframe thead th {\n",
       "        text-align: right;\n",
       "    }\n",
       "</style>\n",
       "<table border=\"1\" class=\"dataframe\">\n",
       "  <thead>\n",
       "    <tr style=\"text-align: right;\">\n",
       "      <th></th>\n",
       "      <th>동물</th>\n",
       "      <th>나이</th>\n",
       "    </tr>\n",
       "  </thead>\n",
       "  <tbody>\n",
       "    <tr>\n",
       "      <th>0</th>\n",
       "      <td>Dog</td>\n",
       "      <td>7</td>\n",
       "    </tr>\n",
       "    <tr>\n",
       "      <th>1</th>\n",
       "      <td>Cat</td>\n",
       "      <td>9</td>\n",
       "    </tr>\n",
       "    <tr>\n",
       "      <th>2</th>\n",
       "      <td>Tiger</td>\n",
       "      <td>2</td>\n",
       "    </tr>\n",
       "    <tr>\n",
       "      <th>3</th>\n",
       "      <td>Lion</td>\n",
       "      <td>3</td>\n",
       "    </tr>\n",
       "    <tr>\n",
       "      <th>4</th>\n",
       "      <td>Monkey</td>\n",
       "      <td>1</td>\n",
       "    </tr>\n",
       "  </tbody>\n",
       "</table>\n",
       "</div>"
      ],
      "text/plain": [
       "       동물  나이\n",
       "0     Dog   7\n",
       "1     Cat   9\n",
       "2   Tiger   2\n",
       "3    Lion   3\n",
       "4  Monkey   1"
      ]
     },
     "execution_count": 55,
     "metadata": {},
     "output_type": "execute_result"
    }
   ],
   "source": [
    "# 데이터프레임으로 만들기\n",
    "df_1 = pd.DataFrame(dic_data)\n",
    "\n",
    "df_1"
   ]
  },
  {
   "cell_type": "code",
   "execution_count": 56,
   "id": "48508226",
   "metadata": {},
   "outputs": [
    {
     "data": {
      "text/plain": [
       "pandas.core.frame.DataFrame"
      ]
     },
     "execution_count": 56,
     "metadata": {},
     "output_type": "execute_result"
    }
   ],
   "source": [
    "type(df_1)"
   ]
  },
  {
   "cell_type": "markdown",
   "id": "c9ca5152",
   "metadata": {},
   "source": [
    "### 리스트 -> 데이터프레임"
   ]
  },
  {
   "cell_type": "code",
   "execution_count": 57,
   "id": "e5e65c66",
   "metadata": {},
   "outputs": [
    {
     "data": {
      "text/plain": [
       "[['Dog', 7], ['Cat', 9], ['Tiger', 2], ['Lion', 3], ['Monkey', 1]]"
      ]
     },
     "execution_count": 57,
     "metadata": {},
     "output_type": "execute_result"
    }
   ],
   "source": [
    "# 리스트 만들기\n",
    "# 5행 2열\n",
    "# 2열 5행\n",
    "list_data = [['Dog', 7], ['Cat', 9], ['Tiger', 2], ['Lion', 3], ['Monkey', 1]]\n",
    "\n",
    "list_data"
   ]
  },
  {
   "cell_type": "code",
   "execution_count": 64,
   "id": "af86a0ab",
   "metadata": {},
   "outputs": [
    {
     "data": {
      "text/html": [
       "<div>\n",
       "<style scoped>\n",
       "    .dataframe tbody tr th:only-of-type {\n",
       "        vertical-align: middle;\n",
       "    }\n",
       "\n",
       "    .dataframe tbody tr th {\n",
       "        vertical-align: top;\n",
       "    }\n",
       "\n",
       "    .dataframe thead th {\n",
       "        text-align: right;\n",
       "    }\n",
       "</style>\n",
       "<table border=\"1\" class=\"dataframe\">\n",
       "  <thead>\n",
       "    <tr style=\"text-align: right;\">\n",
       "      <th></th>\n",
       "      <th>동물</th>\n",
       "      <th>나이</th>\n",
       "    </tr>\n",
       "  </thead>\n",
       "  <tbody>\n",
       "    <tr>\n",
       "      <th>0</th>\n",
       "      <td>Dog</td>\n",
       "      <td>7</td>\n",
       "    </tr>\n",
       "    <tr>\n",
       "      <th>1</th>\n",
       "      <td>Cat</td>\n",
       "      <td>9</td>\n",
       "    </tr>\n",
       "    <tr>\n",
       "      <th>2</th>\n",
       "      <td>Tiger</td>\n",
       "      <td>2</td>\n",
       "    </tr>\n",
       "    <tr>\n",
       "      <th>3</th>\n",
       "      <td>Lion</td>\n",
       "      <td>3</td>\n",
       "    </tr>\n",
       "    <tr>\n",
       "      <th>4</th>\n",
       "      <td>Monkey</td>\n",
       "      <td>1</td>\n",
       "    </tr>\n",
       "  </tbody>\n",
       "</table>\n",
       "</div>"
      ],
      "text/plain": [
       "       동물  나이\n",
       "0     Dog   7\n",
       "1     Cat   9\n",
       "2   Tiger   2\n",
       "3    Lion   3\n",
       "4  Monkey   1"
      ]
     },
     "execution_count": 64,
     "metadata": {},
     "output_type": "execute_result"
    }
   ],
   "source": [
    "# 리스트 -> 데이터프레임\n",
    "df_2 = pd.DataFrame(list_data,\n",
    "                   columns = ['동물', '나이'])\n",
    "\n",
    "df_2"
   ]
  },
  {
   "cell_type": "code",
   "execution_count": 66,
   "id": "9481cfcc",
   "metadata": {},
   "outputs": [
    {
     "name": "stdout",
     "output_type": "stream",
     "text": [
      "<class 'pandas.core.frame.DataFrame'>\n",
      "동물    object\n",
      "나이     int64\n",
      "dtype: object\n"
     ]
    }
   ],
   "source": [
    "# 타입 확인\n",
    "print(type(df_2))\n",
    "\n",
    "# 데이터 타입 확인\n",
    "print(df_2.dtypes)"
   ]
  },
  {
   "cell_type": "markdown",
   "id": "f69abe32",
   "metadata": {},
   "source": [
    "## 비어 있는 데이터프레임 만들기"
   ]
  },
  {
   "cell_type": "code",
   "execution_count": 67,
   "id": "1d78dbe0",
   "metadata": {},
   "outputs": [
    {
     "data": {
      "text/html": [
       "<div>\n",
       "<style scoped>\n",
       "    .dataframe tbody tr th:only-of-type {\n",
       "        vertical-align: middle;\n",
       "    }\n",
       "\n",
       "    .dataframe tbody tr th {\n",
       "        vertical-align: top;\n",
       "    }\n",
       "\n",
       "    .dataframe thead th {\n",
       "        text-align: right;\n",
       "    }\n",
       "</style>\n",
       "<table border=\"1\" class=\"dataframe\">\n",
       "  <thead>\n",
       "    <tr style=\"text-align: right;\">\n",
       "      <th></th>\n",
       "    </tr>\n",
       "  </thead>\n",
       "  <tbody>\n",
       "  </tbody>\n",
       "</table>\n",
       "</div>"
      ],
      "text/plain": [
       "Empty DataFrame\n",
       "Columns: []\n",
       "Index: []"
      ]
     },
     "execution_count": 67,
     "metadata": {},
     "output_type": "execute_result"
    }
   ],
   "source": [
    "# 행과 열에 데이터가 아무것도 없는 = 비어 있는 데이터프레임 만들기\n",
    "df_null = pd.DataFrame()\n",
    "\n",
    "df_null"
   ]
  },
  {
   "cell_type": "code",
   "execution_count": 69,
   "id": "d1e48f7a",
   "metadata": {},
   "outputs": [
    {
     "data": {
      "text/plain": [
       "pandas.core.frame.DataFrame"
      ]
     },
     "execution_count": 69,
     "metadata": {},
     "output_type": "execute_result"
    }
   ],
   "source": [
    "# 타입 확인\n",
    "type(df_null)"
   ]
  },
  {
   "cell_type": "code",
   "execution_count": 70,
   "id": "42a476a8",
   "metadata": {},
   "outputs": [
    {
     "data": {
      "text/html": [
       "<div>\n",
       "<style scoped>\n",
       "    .dataframe tbody tr th:only-of-type {\n",
       "        vertical-align: middle;\n",
       "    }\n",
       "\n",
       "    .dataframe tbody tr th {\n",
       "        vertical-align: top;\n",
       "    }\n",
       "\n",
       "    .dataframe thead th {\n",
       "        text-align: right;\n",
       "    }\n",
       "</style>\n",
       "<table border=\"1\" class=\"dataframe\">\n",
       "  <thead>\n",
       "    <tr style=\"text-align: right;\">\n",
       "      <th></th>\n",
       "      <th>동물</th>\n",
       "    </tr>\n",
       "  </thead>\n",
       "  <tbody>\n",
       "  </tbody>\n",
       "</table>\n",
       "</div>"
      ],
      "text/plain": [
       "Empty DataFrame\n",
       "Columns: [동물]\n",
       "Index: []"
      ]
     },
     "execution_count": 70,
     "metadata": {},
     "output_type": "execute_result"
    }
   ],
   "source": [
    "# 컬럼(변수) 만들기\n",
    "df_null ['동물'] = 'Dog'\n",
    "\n",
    "df_null"
   ]
  },
  {
   "cell_type": "markdown",
   "id": "07c8f1f3",
   "metadata": {},
   "source": [
    "# 데이터 전처리\n",
    "데이터를 가공하는 과정을 데이터 전처리와 데이터 조작이라고 한다.\n",
    "\n",
    "데이터의 결측치나 이상치를 찾고 가공 및 정제하고 원하는 데이터를 추출함.\n",
    "\n",
    "가장 많은 시간을 소요하는 과정."
   ]
  },
  {
   "cell_type": "code",
   "execution_count": null,
   "id": "f09605a6",
   "metadata": {},
   "outputs": [],
   "source": []
  }
 ],
 "metadata": {
  "kernelspec": {
   "display_name": "Python 3 (ipykernel)",
   "language": "python",
   "name": "python3"
  },
  "language_info": {
   "codemirror_mode": {
    "name": "ipython",
    "version": 3
   },
   "file_extension": ".py",
   "mimetype": "text/x-python",
   "name": "python",
   "nbconvert_exporter": "python",
   "pygments_lexer": "ipython3",
   "version": "3.9.7"
  }
 },
 "nbformat": 4,
 "nbformat_minor": 5
}
